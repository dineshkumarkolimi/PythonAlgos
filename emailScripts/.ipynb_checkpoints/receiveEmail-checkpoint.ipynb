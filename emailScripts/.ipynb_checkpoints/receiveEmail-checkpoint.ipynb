{
 "cells": [
  {
   "cell_type": "code",
   "execution_count": 50,
   "metadata": {},
   "outputs": [],
   "source": [
    "import imaplib\n",
    "import getpass\n",
    "import email"
   ]
  },
  {
   "cell_type": "code",
   "execution_count": 26,
   "metadata": {},
   "outputs": [],
   "source": [
    "M = imaplib.IMAP4_SSL('imap.gmail.com')"
   ]
  },
  {
   "cell_type": "code",
   "execution_count": 27,
   "metadata": {},
   "outputs": [
    {
     "name": "stdin",
     "output_type": "stream",
     "text": [
      "enter email: kolimi.dinesh@gmail.com\n",
      "enter password: ················\n"
     ]
    }
   ],
   "source": [
    "email = input(\"enter email:\")\n",
    "password = getpass.getpass(\"enter password:\")"
   ]
  },
  {
   "cell_type": "code",
   "execution_count": 28,
   "metadata": {},
   "outputs": [
    {
     "data": {
      "text/plain": [
       "('OK', [b'kolimi.dinesh@gmail.com authenticated (Success)'])"
      ]
     },
     "execution_count": 28,
     "metadata": {},
     "output_type": "execute_result"
    }
   ],
   "source": [
    "M.login(email, password)"
   ]
  },
  {
   "cell_type": "code",
   "execution_count": 29,
   "metadata": {},
   "outputs": [
    {
     "data": {
      "text/plain": [
       "('OK',\n",
       " [b'(\\\\HasNoChildren) \"/\" \"Deleted Items\"',\n",
       "  b'(\\\\HasNoChildren) \"/\" \"Drafts\"',\n",
       "  b'(\\\\HasNoChildren) \"/\" \"INBOX\"',\n",
       "  b'(\\\\HasNoChildren) \"/\" \"Junk E-mail\"',\n",
       "  b'(\\\\HasNoChildren) \"/\" \"Notes\"',\n",
       "  b'(\\\\HasNoChildren) \"/\" \"Sent Items\"',\n",
       "  b'(\\\\HasNoChildren) \"/\" \"Sent Messages\"',\n",
       "  b'(\\\\HasChildren \\\\Noselect) \"/\" \"[Gmail]\"',\n",
       "  b'(\\\\All \\\\HasNoChildren) \"/\" \"[Gmail]/All Mail\"',\n",
       "  b'(\\\\Drafts \\\\HasNoChildren) \"/\" \"[Gmail]/Drafts\"',\n",
       "  b'(\\\\HasNoChildren \\\\Important) \"/\" \"[Gmail]/Important\"',\n",
       "  b'(\\\\HasNoChildren \\\\Sent) \"/\" \"[Gmail]/Sent Mail\"',\n",
       "  b'(\\\\HasNoChildren \\\\Junk) \"/\" \"[Gmail]/Spam\"',\n",
       "  b'(\\\\Flagged \\\\HasNoChildren) \"/\" \"[Gmail]/Starred\"',\n",
       "  b'(\\\\HasNoChildren \\\\Trash) \"/\" \"[Gmail]/Trash\"'])"
      ]
     },
     "execution_count": 29,
     "metadata": {},
     "output_type": "execute_result"
    }
   ],
   "source": [
    "M.list()"
   ]
  },
  {
   "cell_type": "code",
   "execution_count": 30,
   "metadata": {},
   "outputs": [
    {
     "data": {
      "text/plain": [
       "('OK', [b'39923'])"
      ]
     },
     "execution_count": 30,
     "metadata": {},
     "output_type": "execute_result"
    }
   ],
   "source": [
    "M.select('inbox')"
   ]
  },
  {
   "cell_type": "code",
   "execution_count": null,
   "metadata": {},
   "outputs": [],
   "source": [
    "email_set_to_delete = input(\"enter email id list seperated by ,\")"
   ]
  },
  {
   "cell_type": "code",
   "execution_count": null,
   "metadata": {},
   "outputs": [],
   "source": [
    "email_list_to_delete = email_set_to_delete.split(',')\n",
    "for item in email_list_to_delete:\n",
    "    typ, data = M.search(None, 'FROM %s'%(item))\n",
    "    print(len(data))"
   ]
  },
  {
   "cell_type": "code",
   "execution_count": 64,
   "metadata": {},
   "outputs": [
    {
     "name": "stdout",
     "output_type": "stream",
     "text": [
      "[b'']\n"
     ]
    }
   ],
   "source": []
  },
  {
   "cell_type": "code",
   "execution_count": 61,
   "metadata": {},
   "outputs": [],
   "source": [
    "mail_list = data[0].decode(\"utf-8\").split(\" \")"
   ]
  },
  {
   "cell_type": "code",
   "execution_count": 62,
   "metadata": {},
   "outputs": [
    {
     "data": {
      "text/plain": [
       "('OK',\n",
       " [b'33376',\n",
       "  b'33377',\n",
       "  b'33519',\n",
       "  b'33534',\n",
       "  b'33547',\n",
       "  b'33577',\n",
       "  b'33622',\n",
       "  b'33637',\n",
       "  b'33659',\n",
       "  b'33678',\n",
       "  b'33710',\n",
       "  b'33732',\n",
       "  b'33746',\n",
       "  b'33771',\n",
       "  b'33789',\n",
       "  b'33822',\n",
       "  b'33842',\n",
       "  b'33865',\n",
       "  b'33885',\n",
       "  b'33913',\n",
       "  b'33932',\n",
       "  b'33951',\n",
       "  b'33985',\n",
       "  b'34039',\n",
       "  b'34072',\n",
       "  b'34096',\n",
       "  b'34120',\n",
       "  b'34150',\n",
       "  b'34174',\n",
       "  b'34198',\n",
       "  b'34218',\n",
       "  b'34241',\n",
       "  b'34256',\n",
       "  b'34273',\n",
       "  b'34298',\n",
       "  b'34325',\n",
       "  b'34368',\n",
       "  b'34402',\n",
       "  b'34421',\n",
       "  b'34438',\n",
       "  b'34454',\n",
       "  b'34473',\n",
       "  b'34494',\n",
       "  b'34522',\n",
       "  b'34553',\n",
       "  b'34564',\n",
       "  b'34579',\n",
       "  b'34593',\n",
       "  b'34615',\n",
       "  b'34636',\n",
       "  b'34665',\n",
       "  b'34698',\n",
       "  b'34727',\n",
       "  b'34740',\n",
       "  b'34753',\n",
       "  b'34786',\n",
       "  b'34829',\n",
       "  b'34858',\n",
       "  b'34886',\n",
       "  b'34915',\n",
       "  b'34964',\n",
       "  b'34999',\n",
       "  b'35021',\n",
       "  b'35039',\n",
       "  b'35086',\n",
       "  b'35111',\n",
       "  b'35119',\n",
       "  b'35138',\n",
       "  b'35165',\n",
       "  b'35192',\n",
       "  b'35223',\n",
       "  b'35248',\n",
       "  b'35266',\n",
       "  b'35276',\n",
       "  b'35290',\n",
       "  b'35308',\n",
       "  b'35331',\n",
       "  b'35357',\n",
       "  b'35381',\n",
       "  b'35398',\n",
       "  b'35412',\n",
       "  b'35428',\n",
       "  b'35443',\n",
       "  b'35463',\n",
       "  b'35482',\n",
       "  b'35502',\n",
       "  b'35697',\n",
       "  b'35790',\n",
       "  b'35817',\n",
       "  b'35847',\n",
       "  b'35866',\n",
       "  b'35874',\n",
       "  b'35898',\n",
       "  b'35913',\n",
       "  b'35931',\n",
       "  b'35944',\n",
       "  b'35968',\n",
       "  b'35981',\n",
       "  b'35989',\n",
       "  b'36004',\n",
       "  b'36021',\n",
       "  b'36040',\n",
       "  b'36051',\n",
       "  b'36073',\n",
       "  b'36094',\n",
       "  b'36107',\n",
       "  b'36160',\n",
       "  b'36178',\n",
       "  b'36191',\n",
       "  b'36219',\n",
       "  b'36242',\n",
       "  b'36250',\n",
       "  b'36255',\n",
       "  b'36275',\n",
       "  b'36290',\n",
       "  b'36301',\n",
       "  b'36316',\n",
       "  b'36330',\n",
       "  b'36342',\n",
       "  b'36349',\n",
       "  b'36359',\n",
       "  b'36376',\n",
       "  b'36391',\n",
       "  b'36403',\n",
       "  b'36413',\n",
       "  b'36429',\n",
       "  b'36448',\n",
       "  b'36461',\n",
       "  b'36480',\n",
       "  b'36492',\n",
       "  b'36512',\n",
       "  b'36529',\n",
       "  b'36542',\n",
       "  b'36547',\n",
       "  b'36567',\n",
       "  b'36592',\n",
       "  b'36608',\n",
       "  b'36631',\n",
       "  b'36656',\n",
       "  b'36672',\n",
       "  b'36688',\n",
       "  b'36706',\n",
       "  b'36716',\n",
       "  b'36739',\n",
       "  b'36764',\n",
       "  b'36788',\n",
       "  b'36811',\n",
       "  b'36825',\n",
       "  b'36841',\n",
       "  b'36862',\n",
       "  b'36878',\n",
       "  b'36894',\n",
       "  b'36912',\n",
       "  b'36926',\n",
       "  b'36934',\n",
       "  b'36946',\n",
       "  b'36969',\n",
       "  b'36989',\n",
       "  b'37007',\n",
       "  b'37035',\n",
       "  b'37067',\n",
       "  b'37076',\n",
       "  b'37092',\n",
       "  b'37111',\n",
       "  b'37133',\n",
       "  b'37155',\n",
       "  b'37169',\n",
       "  b'37187',\n",
       "  b'37200',\n",
       "  b'37218',\n",
       "  b'37240',\n",
       "  b'37260',\n",
       "  b'37279',\n",
       "  b'37301',\n",
       "  b'37327',\n",
       "  b'37341',\n",
       "  b'37370',\n",
       "  b'37392',\n",
       "  b'37414',\n",
       "  b'37440',\n",
       "  b'37461',\n",
       "  b'37485',\n",
       "  b'37504',\n",
       "  b'37541',\n",
       "  b'37588',\n",
       "  b'37626',\n",
       "  b'37663',\n",
       "  b'37699',\n",
       "  b'37719',\n",
       "  b'37735',\n",
       "  b'37762',\n",
       "  b'37818',\n",
       "  b'37824',\n",
       "  b'37848',\n",
       "  b'37871',\n",
       "  b'37917',\n",
       "  b'37946',\n",
       "  b'37975',\n",
       "  b'37996',\n",
       "  b'38024',\n",
       "  b'38041',\n",
       "  b'38070',\n",
       "  b'38095',\n",
       "  b'38126',\n",
       "  b'38156',\n",
       "  b'38195',\n",
       "  b'38226',\n",
       "  b'38259',\n",
       "  b'38290',\n",
       "  b'38316',\n",
       "  b'38340',\n",
       "  b'38371',\n",
       "  b'38403',\n",
       "  b'38425',\n",
       "  b'38463',\n",
       "  b'38493',\n",
       "  b'38518',\n",
       "  b'38553',\n",
       "  b'38598',\n",
       "  b'38631',\n",
       "  b'38669',\n",
       "  b'38714',\n",
       "  b'38750',\n",
       "  b'38770',\n",
       "  b'38804',\n",
       "  b'38837',\n",
       "  b'38863',\n",
       "  b'38888',\n",
       "  b'38930',\n",
       "  b'38951',\n",
       "  b'38976',\n",
       "  b'39010',\n",
       "  b'39048',\n",
       "  b'39066',\n",
       "  b'39085',\n",
       "  b'39160',\n",
       "  b'39181',\n",
       "  b'39206',\n",
       "  b'39244',\n",
       "  b'39274',\n",
       "  b'39305',\n",
       "  b'39334',\n",
       "  b'39361',\n",
       "  b'39379',\n",
       "  b'39403',\n",
       "  b'39423',\n",
       "  b'39446',\n",
       "  b'39477',\n",
       "  b'39504',\n",
       "  b'39538',\n",
       "  b'39552',\n",
       "  b'39584',\n",
       "  b'39613'])"
      ]
     },
     "execution_count": 62,
     "metadata": {},
     "output_type": "execute_result"
    }
   ],
   "source": [
    "for email_id in mail_list:\n",
    "    M.store(email_id, '+FLAGS', '\\\\Deleted')\n",
    "#     result, email_data = M.fetch(email_id, '(RFC822)')\n",
    "#     raw_email_string = email_data[0][1].decode('utf-8')\n",
    "#     email_msg = email.message_from_string(raw_email_string)\n",
    "deleted_list = M.expunge()\n",
    "print(len(deleted_list))"
   ]
  },
  {
   "cell_type": "code",
   "execution_count": null,
   "metadata": {},
   "outputs": [],
   "source": [
    "print(len(result))"
   ]
  },
  {
   "cell_type": "code",
   "execution_count": null,
   "metadata": {},
   "outputs": [],
   "source": [
    "print(result)"
   ]
  },
  {
   "cell_type": "code",
   "execution_count": null,
   "metadata": {},
   "outputs": [],
   "source": [
    "print(len(email_data))"
   ]
  },
  {
   "cell_type": "code",
   "execution_count": null,
   "metadata": {},
   "outputs": [],
   "source": [
    "print(email_data)"
   ]
  },
  {
   "cell_type": "code",
   "execution_count": null,
   "metadata": {},
   "outputs": [],
   "source": [
    "raw_email_string = email_data[0][1].decode('utf-8')"
   ]
  },
  {
   "cell_type": "code",
   "execution_count": null,
   "metadata": {},
   "outputs": [],
   "source": []
  },
  {
   "cell_type": "code",
   "execution_count": null,
   "metadata": {},
   "outputs": [],
   "source": [
    "email_msg = email.message_from_string(raw_email_string)"
   ]
  },
  {
   "cell_type": "code",
   "execution_count": null,
   "metadata": {},
   "outputs": [],
   "source": [
    "for part in email_msg.walk():\n",
    "    if part.get_content_type() == 'text/plain':\n",
    "        body = part.get_payload(decode=True)\n",
    "        print(body)"
   ]
  },
  {
   "cell_type": "code",
   "execution_count": null,
   "metadata": {},
   "outputs": [],
   "source": []
  }
 ],
 "metadata": {
  "kernelspec": {
   "display_name": "Python 3",
   "language": "python",
   "name": "python3"
  },
  "language_info": {
   "codemirror_mode": {
    "name": "ipython",
    "version": 3
   },
   "file_extension": ".py",
   "mimetype": "text/x-python",
   "name": "python",
   "nbconvert_exporter": "python",
   "pygments_lexer": "ipython3",
   "version": "3.8.3"
  }
 },
 "nbformat": 4,
 "nbformat_minor": 4
}
